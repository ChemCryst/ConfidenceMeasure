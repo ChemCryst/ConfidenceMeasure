{
 "cells": [
  {
   "cell_type": "raw",
   "metadata": {},
   "source": [
    "This is a basic tour of how to use the confidence measure for its different applications. \n",
    "\n",
    "The confidence measure can be used for one, or several rounds of predictions of decreasing thresholds.\n",
    "The idea is to feed into the next round all the examples that could not be predicted with confidence.\n",
    "\n",
    "The outputs of each round will fall into the prediction confidence interval limited by the threshold of the previous and current round.\n",
    "This allows great descrimination between the confidence of predictions of different examples.\n",
    "\n",
    "One could use this approach to:\n",
    "\n",
    "    [1] Increase model robustness (by filtering marginal classification events due to noise in data).\n",
    "    [2] Increase model performance and retrieve examples whose prediction confidence is is at least x%.\n",
    "    [3] Separate the examples by confidence of their prediction.\n",
    "    [4] Determine in which confidence interval the prediction of an example falls."
   ]
  },
  {
   "cell_type": "raw",
   "metadata": {},
   "source": [
    "Load and explore some data."
   ]
  },
  {
   "cell_type": "code",
   "execution_count": 8,
   "metadata": {},
   "outputs": [
    {
     "name": "stdout",
     "output_type": "stream",
     "text": [
      "Dataframe first 5 columns: \n",
      " ['example_id' 'feature_0' 'feature_1' 'feature_2' 'feature_3']\n",
      "\n",
      "Dataframe size: \n",
      " (10000, 114)\n"
     ]
    }
   ],
   "source": [
    "import pandas as pd\n",
    "\n",
    "data = pd.read_pickle('dataset_example')\n",
    "\n",
    "print('Dataframe first 5 columns: \\n', data.columns.values[:5])\n",
    "print('\\nDataframe size: \\n', data.shape)"
   ]
  },
  {
   "cell_type": "raw",
   "metadata": {},
   "source": [
    "Prepare data for predictions."
   ]
  },
  {
   "cell_type": "code",
   "execution_count": 9,
   "metadata": {},
   "outputs": [],
   "source": [
    "# the id of each example should be stored in a list\n",
    "ids = data.example_id\n",
    "\n",
    "# the descriptors should be stored in a matrix\n",
    "descriptors = data.drop(['example_id'], axis=1)"
   ]
  },
  {
   "cell_type": "raw",
   "metadata": {},
   "source": [
    "Import the confidence measure"
   ]
  },
  {
   "cell_type": "code",
   "execution_count": null,
   "metadata": {},
   "outputs": [],
   "source": [
    "from confidence_system import confidence_measure"
   ]
  },
  {
   "cell_type": "raw",
   "metadata": {},
   "source": [
    "[1] Increase model robustness (by filtering marginal classification events due to noise in data)."
   ]
  },
  {
   "cell_type": "code",
   "execution_count": 11,
   "metadata": {},
   "outputs": [
    {
     "name": "stdout",
     "output_type": "stream",
     "text": [
      "predictive_model.sav (ct 0.05) confident predictions: 8720 total\n",
      "\n",
      "Examples to be determine: 1280 / 10000\n"
     ]
    }
   ],
   "source": [
    "model_file = 'predictive_model.sav'\n",
    "confidence_threshold = 0.05\n",
    "model_confidence_threshold_list = [(model_file, confidence_threshold)]\n",
    "\n",
    "confident_predictions, unpredicted_examples_ids = confidence_measure(model_confidence_threshold_list, ids, descriptors)"
   ]
  },
  {
   "cell_type": "code",
   "execution_count": 12,
   "metadata": {},
   "outputs": [
    {
     "name": "stdout",
     "output_type": "stream",
     "text": [
      "CT      PREDICTION EXAMPLE\n",
      "0.05  |  [('2D', 'example_0'), ('0D', 'example_1'), ('1D', 'example_3')]\n",
      "\n",
      "Examples of unpredicted examples: \n",
      " ['example_2' 'example_5' 'example_6']\n"
     ]
    }
   ],
   "source": [
    "# explore confident_predictions\n",
    "result = confident_predictions[confidence_threshold]\n",
    "\n",
    "print('CT      PREDICTION EXAMPLE')\n",
    "if len(result) == 0:  print(confidence_threshold,' | ', '[()]')\n",
    "else: print(confidence_threshold,' | ', result[:3])\n",
    "    \n",
    "# explore unpredicted_examples_ids\n",
    "print('\\nExamples of unpredicted examples: \\n', unpredicted_examples_ids.values[:3])"
   ]
  },
  {
   "cell_type": "raw",
   "metadata": {},
   "source": [
    "[2] Increase model performance and retrieve examples whose prediction confidence is is at least x%."
   ]
  },
  {
   "cell_type": "code",
   "execution_count": 4,
   "metadata": {},
   "outputs": [
    {
     "name": "stdout",
     "output_type": "stream",
     "text": [
      "predictive_model.sav (ct 0.40) confident predictions: 1768 total\n",
      "\n",
      "Examples to be determine: 8232 / 10000\n"
     ]
    }
   ],
   "source": [
    "model_file = 'predictive_model.sav'\n",
    "confidence_threshold = 0.4\n",
    "model_confidence_threshold_list = [(model_file, confidence_threshold)]\n",
    "\n",
    "confident_predictions, unpredicted_examples_ids = confidence_measure(model_confidence_threshold_list, ids, descriptors)"
   ]
  },
  {
   "cell_type": "code",
   "execution_count": 5,
   "metadata": {},
   "outputs": [
    {
     "name": "stdout",
     "output_type": "stream",
     "text": [
      "CT      PREDICTION EXAMPLE\n",
      "0.4  |  [('3D', 'example_18'), ('3D', 'example_19'), ('3D', 'example_20')]\n",
      "\n",
      "Examples of unpredicted examples: \n",
      " ['example_0' 'example_1' 'example_2']\n"
     ]
    }
   ],
   "source": [
    "# explore confident_predictions\n",
    "result = confident_predictions[confidence_threshold]\n",
    "\n",
    "print('CT      PREDICTION EXAMPLE')\n",
    "if len(result) == 0:  print(confidence_threshold,' | ', '[()]')\n",
    "else: print(confidence_threshold,' | ', result[:3])\n",
    "    \n",
    "# explore unpredicted_examples_ids\n",
    "print('\\nExamples of unpredicted examples: \\n', unpredicted_examples_ids.values[:3])"
   ]
  },
  {
   "cell_type": "raw",
   "metadata": {},
   "source": [
    "[3] Separate the examples by confidence of their prediction."
   ]
  },
  {
   "cell_type": "code",
   "execution_count": 6,
   "metadata": {},
   "outputs": [
    {
     "name": "stdout",
     "output_type": "stream",
     "text": [
      "predictive_model.sav (ct 1.00) confident predictions: 0 total\n",
      "predictive_model.sav (ct 0.90) confident predictions: 88 total\n",
      "predictive_model.sav (ct 0.80) confident predictions: 166 total\n",
      "predictive_model.sav (ct 0.70) confident predictions: 194 total\n",
      "predictive_model.sav (ct 0.60) confident predictions: 221 total\n",
      "predictive_model.sav (ct 0.50) confident predictions: 370 total\n",
      "predictive_model.sav (ct 0.40) confident predictions: 729 total\n",
      "predictive_model.sav (ct 0.30) confident predictions: 1491 total\n",
      "predictive_model.sav (ct 0.10) confident predictions: 4305 total\n",
      "predictive_model.sav (ct 0.00) confident predictions: 2436 total\n",
      "\n",
      "All examples have been classified.\n"
     ]
    }
   ],
   "source": [
    "model_file = 'predictive_model.sav'\n",
    "model_confidence_threshold_list = [(model_file, 1.0), (model_file, 0.9), \n",
    "                                   (model_file, 0.8), (model_file, 0.7), \n",
    "                                   (model_file, 0.6), (model_file, 0.5), \n",
    "                                   (model_file, 0.4), (model_file, 0.3), \n",
    "                                   (model_file, 0.1), (model_file, 0.0)]\n",
    "\n",
    "confident_predictions, unpredicted_examples_ids = confidence_measure(model_confidence_threshold_list, ids, descriptors)"
   ]
  },
  {
   "cell_type": "code",
   "execution_count": 7,
   "metadata": {},
   "outputs": [
    {
     "name": "stdout",
     "output_type": "stream",
     "text": [
      "CT      PREDICTION EXAMPLE\n",
      "1.0  |  [()]\n",
      "0.9  |  [('3D', 'example_278'), ('3D', 'example_373'), ('3D', 'example_839')]\n",
      "0.8  |  [('3D', 'example_20'), ('3D', 'example_103'), ('3D', 'example_104')]\n",
      "0.7  |  [('3D', 'example_51'), ('3D', 'example_78'), ('0D', 'example_107')]\n",
      "0.6  |  [('3D', 'example_18'), ('3D', 'example_70'), ('0D', 'example_123')]\n",
      "0.5  |  [('3D', 'example_19'), ('0D', 'example_30'), ('0D', 'example_32')]\n",
      "0.4  |  [('2D', 'example_26'), ('1D', 'example_27'), ('3D', 'example_36')]\n",
      "0.3  |  [('0D', 'example_1'), ('0D', 'example_7'), ('2D', 'example_23')]\n",
      "0.1  |  [('1D', 'example_3'), ('1D', 'example_4'), ('2D', 'example_10')]\n",
      "0.0  |  [('2D', 'example_0'), ('3D', 'example_2'), ('1D', 'example_5')]\n",
      "\n",
      "Examples of unpredicted examples: \n",
      " []\n"
     ]
    }
   ],
   "source": [
    "# explore confident_predictions\n",
    "print('CT      PREDICTION EXAMPLE')\n",
    "for item in  model_confidence_threshold_list:\n",
    "    \n",
    "    confidence_threshold = item[1]\n",
    "    result = confident_predictions[confidence_threshold]\n",
    "    \n",
    "    if len(result) == 0:  print(confidence_threshold,' | ', '[()]')\n",
    "    else: print(confidence_threshold,' | ', result[:3])\n",
    "    \n",
    "# explore unpredicted_examples_ids\n",
    "print('\\nExamples of unpredicted examples: \\n', unpredicted_examples_ids.values[:3])"
   ]
  },
  {
   "cell_type": "raw",
   "metadata": {},
   "source": [
    "[4] Determine in which confidence interval the prediction of an example falls."
   ]
  },
  {
   "cell_type": "code",
   "execution_count": 8,
   "metadata": {},
   "outputs": [
    {
     "name": "stdout",
     "output_type": "stream",
     "text": [
      "predictive_model.sav (ct 1.00) confident predictions: 0 total\n",
      "predictive_model.sav (ct 0.90) confident predictions: 0 total\n",
      "predictive_model.sav (ct 0.80) confident predictions: 0 total\n",
      "predictive_model.sav (ct 0.70) confident predictions: 0 total\n",
      "predictive_model.sav (ct 0.60) confident predictions: 0 total\n",
      "predictive_model.sav (ct 0.50) confident predictions: 1 total\n",
      "\n",
      "All examples have been classified.\n"
     ]
    }
   ],
   "source": [
    "# select example id\n",
    "example_19 = [ids.iloc[19]]\n",
    "\n",
    "# select example descriptors\n",
    "example_19_descriptors = descriptors.iloc[19,:]\n",
    "\n",
    "model_file = 'predictive_model.sav'\n",
    "model_confidence_threshold_list = [(model_file, 1.0), (model_file, 0.9), \n",
    "                                   (model_file, 0.8), (model_file, 0.7), \n",
    "                                   (model_file, 0.6), (model_file, 0.5), \n",
    "                                   (model_file, 0.4), (model_file, 0.3), \n",
    "                                   (model_file, 0.1), (model_file, 0.0)]\n",
    "\n",
    "confident_predictions, unpredicted_examples_ids = confidence_measure(model_confidence_threshold_list, example_19, example_19_descriptors)"
   ]
  },
  {
   "cell_type": "code",
   "execution_count": 9,
   "metadata": {},
   "outputs": [
    {
     "name": "stdout",
     "output_type": "stream",
     "text": [
      "CT      PREDICTION EXAMPLE\n",
      "1.0  |  [()]\n",
      "0.9  |  [()]\n",
      "0.8  |  [()]\n",
      "0.7  |  [()]\n",
      "0.6  |  [()]\n",
      "0.5  |  [('3D', 'example_19')]\n"
     ]
    }
   ],
   "source": [
    "# explore confident_predictions\n",
    "print('CT      PREDICTION EXAMPLE')\n",
    "\n",
    "for item in  model_confidence_threshold_list:\n",
    "\n",
    "    confidence_threshold = item[1]\n",
    "    result = confident_predictions[confidence_threshold]\n",
    "    \n",
    "    if len(result) == 0:  \n",
    "        print(confidence_threshold,' | ', '[()]')\n",
    "    else: \n",
    "        print(confidence_threshold,' | ', result)\n",
    "        break"
   ]
  },
  {
   "cell_type": "code",
   "execution_count": null,
   "metadata": {},
   "outputs": [],
   "source": []
  },
  {
   "cell_type": "code",
   "execution_count": null,
   "metadata": {},
   "outputs": [],
   "source": []
  }
 ],
 "metadata": {
  "kernelspec": {
   "display_name": "Python 3",
   "language": "python",
   "name": "python3"
  },
  "language_info": {
   "codemirror_mode": {
    "name": "ipython",
    "version": 3
   },
   "file_extension": ".py",
   "mimetype": "text/x-python",
   "name": "python",
   "nbconvert_exporter": "python",
   "pygments_lexer": "ipython3",
   "version": "3.7.3"
  }
 },
 "nbformat": 4,
 "nbformat_minor": 4
}
